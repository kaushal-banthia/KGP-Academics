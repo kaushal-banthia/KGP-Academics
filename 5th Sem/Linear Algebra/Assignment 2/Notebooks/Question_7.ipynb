{
 "cells": [
  {
   "cell_type": "code",
   "execution_count": 1,
   "metadata": {
    "id": "QY3kkc7zF52A"
   },
   "outputs": [],
   "source": [
    "# Kaushal Banthia\n",
    "# 19CS10039\n",
    "# Question 7"
   ]
  },
  {
   "cell_type": "code",
   "execution_count": 2,
   "metadata": {},
   "outputs": [],
   "source": [
    "import numpy as np"
   ]
  },
  {
   "cell_type": "code",
   "execution_count": 3,
   "metadata": {},
   "outputs": [],
   "source": [
    "def algorithm(A, b, iter):\n",
    "    x = np.zeros((10, 1))\n",
    "    actual = np.linalg.inv(A.transpose() @ A) @ A.transpose() @ b\n",
    "    norm = np.linalg.norm(A, 2)\n",
    "    for i in range(iter):\n",
    "        temp = x - ((A.transpose() @ ((A @ x) - b)) / np.square(norm))\n",
    "        x = temp\n",
    "    print(\"Actual x is: \" + str(actual))\n",
    "    print(\"Iterative x is: \" + str(x))\n",
    "    print(\"2 norm of difference after \" + str(iter) + \" iterations is: \" + str(np.linalg.norm(x - actual, 2)))"
   ]
  },
  {
   "cell_type": "code",
   "execution_count": 4,
   "metadata": {},
   "outputs": [
    {
     "name": "stdout",
     "output_type": "stream",
     "text": [
      "Rank(A): 10\n",
      "A is full rank\n",
      "Actual x is: [[ 0.24988416]\n",
      " [ 0.19057976]\n",
      " [-0.23528952]\n",
      " [-0.17585296]\n",
      " [-0.06039597]\n",
      " [-0.37317122]\n",
      " [ 0.54833551]\n",
      " [ 0.19659172]\n",
      " [ 0.56898956]\n",
      " [-0.01360586]]\n",
      "Iterative x is: [[ 0.25728869]\n",
      " [ 0.14997773]\n",
      " [-0.18175885]\n",
      " [-0.1028233 ]\n",
      " [ 0.00763066]\n",
      " [-0.33004629]\n",
      " [ 0.43742638]\n",
      " [ 0.19869833]\n",
      " [ 0.53365844]\n",
      " [-0.02306954]]\n",
      "2 norm of difference after 100 iterations is: 0.17329950658665813\n",
      "Actual x is: [[ 0.24988416]\n",
      " [ 0.19057976]\n",
      " [-0.23528952]\n",
      " [-0.17585296]\n",
      " [-0.06039597]\n",
      " [-0.37317122]\n",
      " [ 0.54833551]\n",
      " [ 0.19659172]\n",
      " [ 0.56898956]\n",
      " [-0.01360586]]\n",
      "Iterative x is: [[ 0.24987738]\n",
      " [ 0.19056965]\n",
      " [-0.23528909]\n",
      " [-0.17583652]\n",
      " [-0.06038942]\n",
      " [-0.37317683]\n",
      " [ 0.5483312 ]\n",
      " [ 0.19659991]\n",
      " [ 0.56898932]\n",
      " [-0.01360651]]\n",
      "2 norm of difference after 1000 iterations is: 2.4060953424038222e-05\n"
     ]
    }
   ],
   "source": [
    "A = np.random.rand(30,10)\n",
    "b = np.random.rand(30,1)\n",
    "rank = np.linalg.matrix_rank(A)\n",
    "print(\"Rank(A): \" + str(rank))\n",
    "if rank==10:\n",
    "    print(\"A is full rank\")\n",
    "    algorithm(A, b, 100)\n",
    "    algorithm(A, b, 1000)\n",
    "else:\n",
    "    print(\"A is not full rank\")"
   ]
  },
  {
   "cell_type": "code",
   "execution_count": 5,
   "metadata": {},
   "outputs": [],
   "source": [
    "# As it can be seen from the above code's output, the values of from both iterative and actual ways is very close.\n",
    "# If we increase the number of iterations from 100 to 1000, then they come even more close, with the norm of their\n",
    "# difference reducing even further. This numerically verifies that the algorithm converges to an answer that is optimal."
   ]
  }
 ],
 "metadata": {
  "colab": {
   "collapsed_sections": [],
   "name": "Q7_Asgn2_19CS30031.ipynb",
   "provenance": []
  },
  "kernelspec": {
   "display_name": "Python 3",
   "language": "python",
   "name": "python3"
  },
  "language_info": {
   "codemirror_mode": {
    "name": "ipython",
    "version": 3
   },
   "file_extension": ".py",
   "mimetype": "text/x-python",
   "name": "python",
   "nbconvert_exporter": "python",
   "pygments_lexer": "ipython3",
   "version": "3.8.3"
  }
 },
 "nbformat": 4,
 "nbformat_minor": 1
}
