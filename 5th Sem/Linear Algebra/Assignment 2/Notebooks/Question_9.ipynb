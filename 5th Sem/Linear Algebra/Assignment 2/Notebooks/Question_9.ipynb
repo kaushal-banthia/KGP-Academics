{
 "cells": [
  {
   "cell_type": "code",
   "execution_count": 1,
   "metadata": {
    "id": "I9bls2dhsaIK"
   },
   "outputs": [],
   "source": [
    "# Kaushal Banthia\n",
    "# 19CS10039\n",
    "# Question 9"
   ]
  },
  {
   "cell_type": "code",
   "execution_count": 2,
   "metadata": {
    "id": "kCA3hzF99wTr"
   },
   "outputs": [],
   "source": [
    "import numpy as np\n",
    "import pandas as pd\n",
    "import matplotlib.pyplot as plt"
   ]
  },
  {
   "cell_type": "code",
   "execution_count": 3,
   "metadata": {
    "id": "VaLn0UPusf2J"
   },
   "outputs": [],
   "source": [
    "data = np.random.normal(size = (500, 2))\n",
    "\n",
    "# data is a matrix with 2 features (x1 and x2) and 500 examples (500 random vectors) (shape: 500 x 2)"
   ]
  },
  {
   "cell_type": "code",
   "execution_count": 4,
   "metadata": {
    "id": "JgujMpbFwZAT"
   },
   "outputs": [],
   "source": [
    "y = []\n",
    "for i in range(500):\n",
    "  if data[i][0] * data[i][1] >= 0:\n",
    "    y.append(1)\n",
    "  else:\n",
    "    y.append(-1)\n"
   ]
  },
  {
   "cell_type": "code",
   "execution_count": 5,
   "metadata": {
    "id": "DAvANG4Ys5AO"
   },
   "outputs": [],
   "source": [
    "df = pd.DataFrame(data)"
   ]
  },
  {
   "cell_type": "code",
   "execution_count": 6,
   "metadata": {
    "id": "PffupuEgvd8g"
   },
   "outputs": [],
   "source": [
    "df[2] = [1]*500       # column of 1s\n",
    "df[3] = df[0]*df[1]   # column of x1*x2\n",
    "df[4] = df[0]*df[0]   # column of x1^2\n",
    "df[5] = df[1]*df[1]   # column of x2^2\n",
    "df['y'] = y"
   ]
  },
  {
   "cell_type": "code",
   "execution_count": 7,
   "metadata": {
    "colab": {
     "base_uri": "https://localhost:8080/",
     "height": 423
    },
    "id": "F9LhVFXovrtz",
    "outputId": "f3b52884-3eb8-4a50-b186-273dcf8c03e8"
   },
   "outputs": [
    {
     "data": {
      "text/html": [
       "<div>\n",
       "<style scoped>\n",
       "    .dataframe tbody tr th:only-of-type {\n",
       "        vertical-align: middle;\n",
       "    }\n",
       "\n",
       "    .dataframe tbody tr th {\n",
       "        vertical-align: top;\n",
       "    }\n",
       "\n",
       "    .dataframe thead th {\n",
       "        text-align: right;\n",
       "    }\n",
       "</style>\n",
       "<table border=\"1\" class=\"dataframe\">\n",
       "  <thead>\n",
       "    <tr style=\"text-align: right;\">\n",
       "      <th></th>\n",
       "      <th>0</th>\n",
       "      <th>1</th>\n",
       "      <th>2</th>\n",
       "      <th>3</th>\n",
       "      <th>4</th>\n",
       "      <th>5</th>\n",
       "      <th>y</th>\n",
       "    </tr>\n",
       "  </thead>\n",
       "  <tbody>\n",
       "    <tr>\n",
       "      <th>0</th>\n",
       "      <td>0.662670</td>\n",
       "      <td>0.355158</td>\n",
       "      <td>1</td>\n",
       "      <td>0.235352</td>\n",
       "      <td>0.439131</td>\n",
       "      <td>0.126137</td>\n",
       "      <td>1</td>\n",
       "    </tr>\n",
       "    <tr>\n",
       "      <th>1</th>\n",
       "      <td>-0.982248</td>\n",
       "      <td>-0.254780</td>\n",
       "      <td>1</td>\n",
       "      <td>0.250257</td>\n",
       "      <td>0.964811</td>\n",
       "      <td>0.064913</td>\n",
       "      <td>1</td>\n",
       "    </tr>\n",
       "    <tr>\n",
       "      <th>2</th>\n",
       "      <td>1.292112</td>\n",
       "      <td>-0.617441</td>\n",
       "      <td>1</td>\n",
       "      <td>-0.797802</td>\n",
       "      <td>1.669553</td>\n",
       "      <td>0.381233</td>\n",
       "      <td>-1</td>\n",
       "    </tr>\n",
       "    <tr>\n",
       "      <th>3</th>\n",
       "      <td>-0.847413</td>\n",
       "      <td>0.749872</td>\n",
       "      <td>1</td>\n",
       "      <td>-0.635452</td>\n",
       "      <td>0.718109</td>\n",
       "      <td>0.562308</td>\n",
       "      <td>-1</td>\n",
       "    </tr>\n",
       "    <tr>\n",
       "      <th>4</th>\n",
       "      <td>0.074795</td>\n",
       "      <td>-1.066876</td>\n",
       "      <td>1</td>\n",
       "      <td>-0.079797</td>\n",
       "      <td>0.005594</td>\n",
       "      <td>1.138224</td>\n",
       "      <td>-1</td>\n",
       "    </tr>\n",
       "    <tr>\n",
       "      <th>...</th>\n",
       "      <td>...</td>\n",
       "      <td>...</td>\n",
       "      <td>...</td>\n",
       "      <td>...</td>\n",
       "      <td>...</td>\n",
       "      <td>...</td>\n",
       "      <td>...</td>\n",
       "    </tr>\n",
       "    <tr>\n",
       "      <th>495</th>\n",
       "      <td>0.169401</td>\n",
       "      <td>-0.677500</td>\n",
       "      <td>1</td>\n",
       "      <td>-0.114769</td>\n",
       "      <td>0.028697</td>\n",
       "      <td>0.459006</td>\n",
       "      <td>-1</td>\n",
       "    </tr>\n",
       "    <tr>\n",
       "      <th>496</th>\n",
       "      <td>0.042101</td>\n",
       "      <td>0.143737</td>\n",
       "      <td>1</td>\n",
       "      <td>0.006052</td>\n",
       "      <td>0.001773</td>\n",
       "      <td>0.020660</td>\n",
       "      <td>1</td>\n",
       "    </tr>\n",
       "    <tr>\n",
       "      <th>497</th>\n",
       "      <td>-0.295761</td>\n",
       "      <td>0.645985</td>\n",
       "      <td>1</td>\n",
       "      <td>-0.191057</td>\n",
       "      <td>0.087475</td>\n",
       "      <td>0.417297</td>\n",
       "      <td>-1</td>\n",
       "    </tr>\n",
       "    <tr>\n",
       "      <th>498</th>\n",
       "      <td>0.050363</td>\n",
       "      <td>0.579753</td>\n",
       "      <td>1</td>\n",
       "      <td>0.029198</td>\n",
       "      <td>0.002536</td>\n",
       "      <td>0.336114</td>\n",
       "      <td>1</td>\n",
       "    </tr>\n",
       "    <tr>\n",
       "      <th>499</th>\n",
       "      <td>0.218110</td>\n",
       "      <td>-0.147267</td>\n",
       "      <td>1</td>\n",
       "      <td>-0.032120</td>\n",
       "      <td>0.047572</td>\n",
       "      <td>0.021687</td>\n",
       "      <td>-1</td>\n",
       "    </tr>\n",
       "  </tbody>\n",
       "</table>\n",
       "<p>500 rows × 7 columns</p>\n",
       "</div>"
      ],
      "text/plain": [
       "            0         1  2         3         4         5  y\n",
       "0    0.662670  0.355158  1  0.235352  0.439131  0.126137  1\n",
       "1   -0.982248 -0.254780  1  0.250257  0.964811  0.064913  1\n",
       "2    1.292112 -0.617441  1 -0.797802  1.669553  0.381233 -1\n",
       "3   -0.847413  0.749872  1 -0.635452  0.718109  0.562308 -1\n",
       "4    0.074795 -1.066876  1 -0.079797  0.005594  1.138224 -1\n",
       "..        ...       ... ..       ...       ...       ... ..\n",
       "495  0.169401 -0.677500  1 -0.114769  0.028697  0.459006 -1\n",
       "496  0.042101  0.143737  1  0.006052  0.001773  0.020660  1\n",
       "497 -0.295761  0.645985  1 -0.191057  0.087475  0.417297 -1\n",
       "498  0.050363  0.579753  1  0.029198  0.002536  0.336114  1\n",
       "499  0.218110 -0.147267  1 -0.032120  0.047572  0.021687 -1\n",
       "\n",
       "[500 rows x 7 columns]"
      ]
     },
     "execution_count": 7,
     "metadata": {},
     "output_type": "execute_result"
    }
   ],
   "source": [
    "df"
   ]
  },
  {
   "cell_type": "code",
   "execution_count": 8,
   "metadata": {
    "id": "8w9orvqe8J3_"
   },
   "outputs": [],
   "source": [
    "X = np.array(df.drop('y', axis = 1))"
   ]
  },
  {
   "cell_type": "code",
   "execution_count": 9,
   "metadata": {
    "id": "n1tL0EiTFBG6"
   },
   "outputs": [],
   "source": [
    "coeff = np.linalg.inv(X.T@X)@X.T@y"
   ]
  },
  {
   "cell_type": "code",
   "execution_count": 10,
   "metadata": {
    "colab": {
     "base_uri": "https://localhost:8080/"
    },
    "id": "acJk3Sa2FTMW",
    "outputId": "b750fcee-bf9a-47fb-8f39-136f739db3c5"
   },
   "outputs": [
    {
     "data": {
      "text/plain": [
       "array([ 6.94230086e-02, -2.41368450e-02, -2.37861495e-02,  6.69312577e-01,\n",
       "        4.18716816e-02, -3.27387759e-04])"
      ]
     },
     "execution_count": 10,
     "metadata": {},
     "output_type": "execute_result"
    }
   ],
   "source": [
    "coeff"
   ]
  },
  {
   "cell_type": "code",
   "execution_count": 11,
   "metadata": {},
   "outputs": [],
   "source": [
    "def predict(coeff, x):\n",
    "  ans = np.dot(x, coeff)\n",
    "  for i in range(len(ans)):\n",
    "    if ans[i] >= 0:\n",
    "      ans[i] = 1\n",
    "    else:\n",
    "      ans[i] = -1\n",
    "  return ans"
   ]
  },
  {
   "cell_type": "code",
   "execution_count": 12,
   "metadata": {},
   "outputs": [],
   "source": [
    "final_ans = predict(coeff, X)"
   ]
  },
  {
   "cell_type": "code",
   "execution_count": 13,
   "metadata": {
    "colab": {
     "base_uri": "https://localhost:8080/"
    },
    "id": "h2aWT0bQL-My",
    "outputId": "b2a7ce60-7f79-43eb-8436-cb04b3ddacbc"
   },
   "outputs": [
    {
     "name": "stdout",
     "output_type": "stream",
     "text": [
      "[[243   3]\n",
      " [ 21 233]]\n",
      "Error Rate = 4.8%\n"
     ]
    }
   ],
   "source": [
    "# (a)\n",
    "\n",
    "from sklearn.metrics import confusion_matrix\n",
    "cf = confusion_matrix(y, final_ans)\n",
    "print(cf)\n",
    "print(\"Error Rate = \" + str(100 * (cf[0][1] + cf[1][0])/500) + \"%\")"
   ]
  },
  {
   "cell_type": "code",
   "execution_count": 14,
   "metadata": {},
   "outputs": [
    {
     "data": {
      "image/png": "[encoded data removed]",
      "text/plain": [
       "<Figure size 432x288 with 1 Axes>"
      ]
     },
     "metadata": {
      "needs_background": "light"
     },
     "output_type": "display_data"
    },
    {
     "data": {
      "image/png": "[encoded data removed]",
      "text/plain": [
       "<Figure size 432x288 with 1 Axes>"
      ]
     },
     "metadata": {
      "needs_background": "light"
     },
     "output_type": "display_data"
    }
   ],
   "source": [
    "# (b)\n",
    "fig, ax = plt.subplots()\n",
    "colors = {1:'red', -1:'blue'}\n",
    "ax.scatter(df[0], df[1], c=df['y'].map(colors))\n",
    "plt.title(\"Data Points\")  # Red for 1 and Blue for -1\n",
    "plt.show()\n",
    "\n",
    "def axes():\n",
    "    plt.axhline(0, alpha=.1)\n",
    "    plt.axvline(0, alpha=.1)\n",
    "x_ = np.linspace(-5, 5, 400)\n",
    "y_ = np.linspace(-5, 5, 400)\n",
    "x_, y_ = np.meshgrid(x_, y_)\n",
    "a = coeff[0]\n",
    "b = coeff[1]\n",
    "c = coeff[2]\n",
    "d = coeff[3]\n",
    "e = coeff[4]\n",
    "f = coeff[5]\n",
    "axes()\n",
    "plt.contour(x_, y_,(a*x_ + b*y_ + c + d*x_*y_ + e*x_*x_ + f*y_*y_), [1], colors='k')\n",
    "plt.title(\"Model\")\n",
    "plt.show()"
   ]
  },
  {
   "cell_type": "code",
   "execution_count": 15,
   "metadata": {
    "id": "KHYNZs6BNRNS"
   },
   "outputs": [],
   "source": [
    "# (c)\n",
    "# if the polynomial is f = x1x2, then\n",
    "# Then the output is sign(x1x2)\n",
    "# This is exactly how we defined our y to be\n",
    "# Thus, there would be zero error\n",
    "# This is demonstrated below"
   ]
  },
  {
   "cell_type": "code",
   "execution_count": 16,
   "metadata": {},
   "outputs": [
    {
     "name": "stdout",
     "output_type": "stream",
     "text": [
      "[[246   0]\n",
      " [  0 254]]\n",
      "Error Rate = 0.0%\n"
     ]
    }
   ],
   "source": [
    "new_X = np.array(df[3])\n",
    "new_ans = []\n",
    "\n",
    "for i in new_X:\n",
    "    if i >= 0:\n",
    "        new_ans.append(1)\n",
    "    else:\n",
    "        new_ans.append(-1)\n",
    "new_ans = np.array(new_ans)\n",
    "\n",
    "new_cf = confusion_matrix(y, new_ans)\n",
    "print(new_cf)\n",
    "print(\"Error Rate = \" + str(100 * (new_cf[0][1] + new_cf[1][0])/500) + \"%\")"
   ]
  }
 ],
 "metadata": {
  "colab": {
   "collapsed_sections": [],
   "name": "Question 9",
   "provenance": []
  },
  "kernelspec": {
   "display_name": "Python 3",
   "language": "python",
   "name": "python3"
  },
  "language_info": {
   "codemirror_mode": {
    "name": "ipython",
    "version": 3
   },
   "file_extension": ".py",
   "mimetype": "text/x-python",
   "name": "python",
   "nbconvert_exporter": "python",
   "pygments_lexer": "ipython3",
   "version": "3.8.3"
  }
 },
 "nbformat": 4,
 "nbformat_minor": 1
}
