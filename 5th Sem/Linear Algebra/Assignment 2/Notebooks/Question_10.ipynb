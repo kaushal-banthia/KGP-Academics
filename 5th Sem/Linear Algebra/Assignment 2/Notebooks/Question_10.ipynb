{
 "cells": [
  {
   "cell_type": "code",
   "execution_count": 1,
   "metadata": {
    "id": "Aiv5sfcZPqy0"
   },
   "outputs": [],
   "source": [
    "# Kaushal Banthia\n",
    "# 19CS10039\n",
    "# Question 10"
   ]
  },
  {
   "cell_type": "code",
   "execution_count": null,
   "metadata": {},
   "outputs": [],
   "source": [
    "from keras.datasets import mnist\n",
    "import numpy as np\n",
    "import pandas as pd\n",
    "import matplotlib.pyplot as plt\n",
    "%matplotlib inline\n",
    "import sklearn.metrics as metrics"
   ]
  },
  {
   "cell_type": "code",
   "execution_count": 2,
   "metadata": {
    "colab": {
     "base_uri": "https://localhost:8080/"
    },
    "id": "6vQ_JF6sQIH5",
    "outputId": "a875631f-b46f-4381-929e-35cde75932e5"
   },
   "outputs": [
    {
     "name": "stdout",
     "output_type": "stream",
     "text": [
      "Downloading data from https://storage.googleapis.com/tensorflow/tf-keras-datasets/mnist.npz\n",
      "11493376/11490434 [==============================] - 0s 0us/step\n",
      "11501568/11490434 [==============================] - 0s 0us/step\n"
     ]
    }
   ],
   "source": [
    "(train_X, train_y), (test_X, test_y) = mnist.load_data()"
   ]
  },
  {
   "cell_type": "code",
   "execution_count": 3,
   "metadata": {
    "colab": {
     "base_uri": "https://localhost:8080/"
    },
    "id": "_hEwy4wnQJJv",
    "outputId": "27284c83-e2fb-4c76-d799-14b20f30ccb4"
   },
   "outputs": [
    {
     "name": "stdout",
     "output_type": "stream",
     "text": [
      "X_train: (60000, 28, 28)\n",
      "Y_train: (60000,)\n",
      "X_test:  (10000, 28, 28)\n",
      "Y_test:  (10000,)\n"
     ]
    }
   ],
   "source": [
    "print('X_train: ' + str(train_X.shape))\n",
    "print('Y_train: ' + str(train_y.shape))\n",
    "print('X_test:  '  + str(test_X.shape))\n",
    "print('Y_test:  '  + str(test_y.shape))"
   ]
  },
  {
   "cell_type": "code",
   "execution_count": 4,
   "metadata": {
    "id": "A7blg3sVQJ8h"
   },
   "outputs": [],
   "source": [
    "# Normalisation\n",
    "train_X = train_X.astype('float32') \n",
    "test_X = test_X.astype('float32')\n",
    "\n",
    "train_X = train_X/255.0\n",
    "test_X = test_X/255.0\n",
    "\n",
    "# Reshaping\n",
    "train_X = train_X.reshape(len(train_X),-1)\n",
    "test_X = test_X.reshape(len(test_X),-1)"
   ]
  },
  {
   "cell_type": "code",
   "execution_count": 5,
   "metadata": {
    "id": "MpHqnI0QDO_V"
   },
   "outputs": [],
   "source": [
    "NUM_CLASSES = 10"
   ]
  },
  {
   "cell_type": "code",
   "execution_count": 6,
   "metadata": {
    "id": "EWRfaTJ5DUzv"
   },
   "outputs": [],
   "source": [
    "def train(X_train, y_train, reg=1):\n",
    "    y_train = one_hot(y_train)\n",
    "    right = np.zeros((X_train.shape[1], y_train.shape[1]))\n",
    "    left = np.zeros((X_train.shape[1], X_train.shape[1]))\n",
    "    for i in range(X_train.shape[0]):\n",
    "        if i % 1000 == 0:\n",
    "            print(i)\n",
    "        right += np.outer(X_train[i], np.transpose(y_train[i]))\n",
    "        left += np.outer(X_train[i], np.transpose(X_train[i]))\n",
    "    left = left + reg*np.identity(X_train.shape[1])\n",
    "    left = np.linalg.inv(left)\n",
    "    return np.dot(left, right)"
   ]
  },
  {
   "cell_type": "code",
   "execution_count": 7,
   "metadata": {
    "id": "h2qI8AmgDXaX"
   },
   "outputs": [],
   "source": [
    "def one_hot(labels_train):\n",
    "    result = np.zeros((labels_train.shape[0], NUM_CLASSES))\n",
    "    for i in range(labels_train.shape[0]):\n",
    "        result[i][labels_train[i]] = 1;\n",
    "    return result"
   ]
  },
  {
   "cell_type": "code",
   "execution_count": 8,
   "metadata": {
    "id": "8RQAx421DZPS"
   },
   "outputs": [],
   "source": [
    "def predict(model, X):\n",
    "    results = np.zeros(X.shape[0])\n",
    "    matrix = []\n",
    "    for i in range(X.shape[0]):\n",
    "        matrix.append(np.dot(np.transpose(model), X[i]))\n",
    "        results[i] = np.argmax(np.dot(np.transpose(model), X[i]))\n",
    "    \n",
    "    return results, matrix"
   ]
  },
  {
   "cell_type": "code",
   "execution_count": 15,
   "metadata": {
    "colab": {
     "base_uri": "https://localhost:8080/"
    },
    "id": "CiOcHNDGDbUT",
    "outputId": "dadca708-e1e2-4951-9a60-7ba1d572045c"
   },
   "outputs": [
    {
     "name": "stdout",
     "output_type": "stream",
     "text": [
      "0\n",
      "1000\n",
      "2000\n",
      "3000\n",
      "4000\n",
      "5000\n",
      "6000\n",
      "7000\n",
      "8000\n",
      "9000\n",
      "10000\n",
      "11000\n",
      "12000\n",
      "13000\n",
      "14000\n",
      "15000\n",
      "16000\n",
      "17000\n",
      "18000\n",
      "19000\n",
      "20000\n",
      "21000\n",
      "22000\n",
      "23000\n",
      "24000\n",
      "25000\n",
      "26000\n",
      "27000\n",
      "28000\n",
      "29000\n",
      "30000\n",
      "31000\n",
      "32000\n",
      "33000\n",
      "34000\n",
      "35000\n",
      "36000\n",
      "37000\n",
      "38000\n",
      "39000\n",
      "40000\n",
      "41000\n",
      "42000\n",
      "43000\n",
      "44000\n",
      "45000\n",
      "46000\n",
      "47000\n",
      "48000\n",
      "49000\n",
      "50000\n",
      "51000\n",
      "52000\n",
      "53000\n",
      "54000\n",
      "55000\n",
      "56000\n",
      "57000\n",
      "58000\n",
      "59000\n",
      "Train accuracy: 0.8519\n",
      "Test accuracy: 0.8534\n"
     ]
    }
   ],
   "source": [
    "X_train = train_X[:,:,np.newaxis]\n",
    "X_test = test_X[:,:,np.newaxis]\n",
    "labels_train = train_y\n",
    "labels_test = test_y\n",
    "\n",
    "model = train(X_train, train_y)\n",
    "y_train = one_hot(train_y)\n",
    "y_test = one_hot(labels_test)\n",
    "\n",
    "pred_labels_train, matrix_train = predict(model, X_train)\n",
    "pred_labels_test, matrix_test= predict(model, X_test)\n",
    "\n",
    "\n",
    "print(\"Train accuracy: {0}\".format(metrics.accuracy_score(labels_train, pred_labels_train)))\n",
    "print(\"Test accuracy: {0}\".format(metrics.accuracy_score(labels_test, pred_labels_test)))"
   ]
  },
  {
   "cell_type": "code",
   "execution_count": 28,
   "metadata": {
    "colab": {
     "base_uri": "https://localhost:8080/"
    },
    "id": "mCJpiTDBZZ6z",
    "outputId": "94bebef2-9800-4705-8a39-4e757f9a9215"
   },
   "outputs": [
    {
     "name": "stdout",
     "output_type": "stream",
     "text": [
      "10x10 confusion matrix for the train dataset\n",
      "[[5664    8   20   18   26   43   73    3   62    6]\n",
      " [   1 6515   36   17   10   29   15   13  101    5]\n",
      " [  91  258 4799  150  102   12  237   85  203   21]\n",
      " [  42  142  182 5207   29   91   57  109  140  132]\n",
      " [   9  100   54    8 5125   50   48   23   82  343]\n",
      " [ 143   70   31  520   82 3788  196   38  400  153]\n",
      " [ 105   66   64    2   58   84 5491    0   46    2]\n",
      " [  52  184   43   58  151    8    3 5396   20  350]\n",
      " [  82  529   61  222  122  233   51   20 4356  175]\n",
      " [  66   59   26  113  356    8    4  491   53 4773]]\n",
      "Error rate on the training data =  14.81 %\n"
     ]
    }
   ],
   "source": [
    "print(\"10x10 confusion matrix for the train dataset\")\n",
    "cf_train = metrics.confusion_matrix(labels_train, pred_labels_train)\n",
    "print(cf_train)\n",
    "\n",
    "error_train = 0\n",
    "for i in range(10):\n",
    "  error_train += cf_train[i][i]\n",
    "error_train /= 60000\n",
    "error_train = (1-error_train)*100\n",
    "print(\"Error rate on the training data = \", error_train, \"%\")"
   ]
  },
  {
   "cell_type": "code",
   "execution_count": 30,
   "metadata": {
    "colab": {
     "base_uri": "https://localhost:8080/"
    },
    "id": "pilm68LKilHs",
    "outputId": "c60b70b3-b4e9-40a2-8379-d51c4d2152ec"
   },
   "outputs": [
    {
     "name": "stdout",
     "output_type": "stream",
     "text": [
      "10x10 confusion matrix for the test dataset\n",
      "[[ 942    0    2    2    1    7   15    2    7    2]\n",
      " [   0 1107    2    2    1    1    5    2   15    0]\n",
      " [  17   55  809   28   16    0   42   21   39    5]\n",
      " [   4   15   26  887    2   14    9   21   22   10]\n",
      " [   0   23    6    2  873    5   10    2   13   48]\n",
      " [  20   18    2   84   19  625   22   13   67   22]\n",
      " [  17    9   10    0   21   20  872    0    9    0]\n",
      " [   5   38   18    8   20    0    2  876    3   58]\n",
      " [  17   55    9   32   27   41   15   12  743   23]\n",
      " [  18   10    2   15   72    1    1   77   13  800]]\n",
      "Error rate on the test data =  14.659999999999995 %\n"
     ]
    }
   ],
   "source": [
    "print(\"10x10 confusion matrix for the test dataset\")\n",
    "cf_test = metrics.confusion_matrix(labels_test, pred_labels_test)\n",
    "print(cf_test)\n",
    "\n",
    "error_test = 0\n",
    "for i in range(10):\n",
    "  error_test += cf_test[i][i]\n",
    "error_test /= 10000\n",
    "error_test = (1-error_test)*100\n",
    "print(\"Error rate on the test data = \", error_test, \"%\")"
   ]
  }
 ],
 "metadata": {
  "colab": {
   "collapsed_sections": [],
   "name": "Question 10",
   "provenance": []
  },
  "kernelspec": {
   "display_name": "Python 3",
   "language": "python",
   "name": "python3"
  },
  "language_info": {
   "codemirror_mode": {
    "name": "ipython",
    "version": 3
   },
   "file_extension": ".py",
   "mimetype": "text/x-python",
   "name": "python",
   "nbconvert_exporter": "python",
   "pygments_lexer": "ipython3",
   "version": "3.8.3"
  }
 },
 "nbformat": 4,
 "nbformat_minor": 1
}
