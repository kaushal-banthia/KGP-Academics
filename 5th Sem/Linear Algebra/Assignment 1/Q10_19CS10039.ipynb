{
 "cells": [
  {
   "cell_type": "code",
   "execution_count": 1,
   "id": "1060c64a",
   "metadata": {},
   "outputs": [
    {
     "name": "stdout",
     "output_type": "stream",
     "text": [
      "loading content:  Linear Algebra\n",
      "loading content:  Data Science\n",
      "loading content:  Artificial intelligence\n",
      "loading content:  European Central Bank\n",
      "loading content:  Financial technology\n",
      "loading content:  International Monetary Fund\n",
      "loading content:  Basketball\n",
      "loading content:  Swimming\n",
      "loading content:  Cricket\n"
     ]
    }
   ],
   "source": [
    "import pandas as pd\n",
    "import wikipedia\n",
    "articles=['Linear Algebra',\n",
    "          'Data Science',\n",
    "          'Artificial intelligence',\n",
    "          'European Central Bank',\n",
    "          'Financial technology',\n",
    "          'International Monetary Fund',\n",
    "          'Basketball',\n",
    "          'Swimming',\n",
    "          'Cricket']\n",
    "lst=[]\n",
    "title=[]\n",
    "for article in articles:\n",
    "   print(\"loading content: \",article)\n",
    "   lst.append(wikipedia.page(article).content)\n",
    "   title.append(article)"
   ]
  },
  {
   "cell_type": "code",
   "execution_count": 2,
   "id": "629b1b57",
   "metadata": {},
   "outputs": [],
   "source": [
    "from sklearn.feature_extraction.text import TfidfVectorizer\n",
    "vectorizer = TfidfVectorizer(stop_words={'english'})\n",
    "X = vectorizer.fit_transform(lst)"
   ]
  },
  {
   "cell_type": "code",
   "execution_count": 5,
   "id": "ba89026b",
   "metadata": {},
   "outputs": [
    {
     "name": "stdout",
     "output_type": "stream",
     "text": [
      "                      Document  Cluster\n",
      "2      Artificial intelligence        0\n",
      "3        European Central Bank        0\n",
      "5  International Monetary Fund        0\n",
      "6                   Basketball        0\n",
      "7                     Swimming        0\n",
      "8                      Cricket        0\n",
      "0               Linear Algebra        1\n",
      "1                 Data Science        2\n",
      "4         Financial technology        3\n"
     ]
    }
   ],
   "source": [
    "from sklearn.cluster import KMeans\n",
    "k = 4\n",
    "model = KMeans(n_clusters=k, init='k-means++', max_iter=200, n_init=10)\n",
    "model.fit(X)\n",
    "labels=model.labels_\n",
    "wiki_cl=pd.DataFrame(list(zip(title,labels)),columns=['Document','Cluster'])\n",
    "print(wiki_cl.sort_values(by=['Cluster']))"
   ]
  },
  {
   "cell_type": "code",
   "execution_count": 6,
   "id": "8992be8b",
   "metadata": {},
   "outputs": [
    {
     "name": "stdout",
     "output_type": "stream",
     "text": [
      "                      Document  Cluster\n",
      "6                   Basketball        0\n",
      "8                      Cricket        0\n",
      "1                 Data Science        1\n",
      "7                     Swimming        2\n",
      "0               Linear Algebra        3\n",
      "4         Financial technology        4\n",
      "2      Artificial intelligence        5\n",
      "5  International Monetary Fund        6\n",
      "3        European Central Bank        7\n"
     ]
    }
   ],
   "source": [
    "k = 8\n",
    "model = KMeans(n_clusters=k, init='k-means++', max_iter=200, n_init=10)\n",
    "model.fit(X)\n",
    "labels=model.labels_\n",
    "wiki_cl=pd.DataFrame(list(zip(title,labels)),columns=['Document','Cluster'])\n",
    "print(wiki_cl.sort_values(by=['Cluster']))"
   ]
  },
  {
   "cell_type": "code",
   "execution_count": null,
   "id": "8e6380cd",
   "metadata": {},
   "outputs": [],
   "source": [
    "# Out of the values of k = 4 and 8, k = 8 is better for the given data, since it doesn't incorrectly group many topics\n",
    "# together, that have little correlation with each other (like \"International Monetary Fund\" and \"Cricket\" are grouped\n",
    "# together, when k = 4). But when k = 8, they are well separated into their own categories. Also, the two sports \n",
    "# (\"Basketball\" and \"Cricket\") are grouped together in thise case."
   ]
  }
 ],
 "metadata": {
  "kernelspec": {
   "display_name": "Python 3",
   "language": "python",
   "name": "python3"
  },
  "language_info": {
   "codemirror_mode": {
    "name": "ipython",
    "version": 3
   },
   "file_extension": ".py",
   "mimetype": "text/x-python",
   "name": "python",
   "nbconvert_exporter": "python",
   "pygments_lexer": "ipython3",
   "version": "3.8.3"
  }
 },
 "nbformat": 4,
 "nbformat_minor": 5
}
